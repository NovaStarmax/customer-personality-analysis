{
 "cells": [
  {
   "cell_type": "markdown",
   "id": "ada99630",
   "metadata": {},
   "source": [
    "# Analyse de personnalité client - Modélisation"
   ]
  },
  {
   "cell_type": "markdown",
   "id": "f10673a1",
   "metadata": {},
   "source": [
    "Ce notebook réalise l'analyse non supervisée du jeu de données issu de la **Customer Personality Analysis** disponible sur Kaggle.\n",
    "Nous allons:\n",
    "1. Charger et explorer les données\n",
    "2. Nettoyer et prétraiter le jeu de données\n",
    "3. Réduire la dimension avec une sélection de variables et une analyse factorielle\n",
    "4. Appliquer trois méthodes de clustering (k-means, CAH, DBSCAN)\n",
    "5. Comparer les résultats et profiler les groupes obtenus\n",
    "6. Conclure"
   ]
  },
  {
   "cell_type": "markdown",
   "id": "1ee89658",
   "metadata": {},
   "source": [
    "## 1. Chargement et exploration des données"
   ]
  },
  {
   "cell_type": "code",
   "execution_count": null,
   "id": "350c5b6b",
   "metadata": {},
   "outputs": [],
   "source": [
    "import pandas as pd\n",
    "import numpy as np\n",
    "import seaborn as sns\n",
    "import matplotlib.pyplot as plt\n",
    "\n",
    "pd.set_option('display.max_columns', None)\n",
    "\n",
    "df = pd.read_csv('../data/marketing_campaign.csv', sep='\t')\n",
    "df.head()"
   ]
  },
  {
   "cell_type": "code",
   "execution_count": null,
   "id": "f4215179",
   "metadata": {},
   "outputs": [],
   "source": [
    "df.info()"
   ]
  },
  {
   "cell_type": "code",
   "execution_count": null,
   "id": "ac15b18e",
   "metadata": {},
   "outputs": [],
   "source": [
    "# Pourcentage de valeurs manquantes\n",
    "missing = df.isna().mean().sort_values(ascending=False)\n",
    "missing[missing > 0]"
   ]
  },
  {
   "cell_type": "markdown",
   "id": "87e90829",
   "metadata": {},
   "source": [
    "## 2. Nettoyage et prétraitement"
   ]
  },
  {
   "cell_type": "code",
   "execution_count": null,
   "id": "075e3de9",
   "metadata": {},
   "outputs": [],
   "source": [
    "df['Dt_Customer'] = pd.to_datetime(df['Dt_Customer'], format='%d-%m-%Y')\n",
    "df['Customer_For_Days'] = (pd.to_datetime('2024-01-01') - df['Dt_Customer']).dt.days\n",
    "\n",
    "categorical_cols = ['Education', 'Marital_Status']\n",
    "df = pd.get_dummies(df, columns=categorical_cols, drop_first=True)\n",
    "\n",
    "df = df.drop(['ID', 'Dt_Customer'], axis=1)\n",
    "\n",
    "df = df.fillna(df.median(numeric_only=True))"
   ]
  },
  {
   "cell_type": "code",
   "execution_count": null,
   "id": "49edc857",
   "metadata": {},
   "outputs": [],
   "source": [
    "df.head()"
   ]
  },
  {
   "cell_type": "markdown",
   "id": "723248f7",
   "metadata": {},
   "source": [
    "### Standardisation"
   ]
  },
  {
   "cell_type": "code",
   "execution_count": null,
   "id": "fed9599b",
   "metadata": {},
   "outputs": [],
   "source": [
    "from sklearn.preprocessing import StandardScaler\n",
    "scaler = StandardScaler()\n",
    "scaled_data = scaler.fit_transform(df)"
   ]
  },
  {
   "cell_type": "markdown",
   "id": "e7824a3b",
   "metadata": {},
   "source": [
    "## 3. Réduction de dimension"
   ]
  },
  {
   "cell_type": "code",
   "execution_count": null,
   "id": "557a61d0",
   "metadata": {},
   "outputs": [],
   "source": [
    "from sklearn.decomposition import PCA\n",
    "pca = PCA(n_components=0.9)\n",
    "reduced_data = pca.fit_transform(scaled_data)\n",
    "print('Nombre de composantes conservées :', pca.n_components_)"
   ]
  },
  {
   "cell_type": "code",
   "execution_count": null,
   "id": "e589e304",
   "metadata": {},
   "outputs": [],
   "source": [
    "plt.figure(figsize=(6,4))\n",
    "plt.plot(np.cumsum(pca.explained_variance_ratio_))\n",
    "plt.xlabel('Nombre de composantes')\n",
    "plt.ylabel('Variance expliquée cumulée')\n",
    "plt.title('PCA - variance expliquée')\n",
    "plt.show()"
   ]
  },
  {
   "cell_type": "markdown",
   "id": "b962d3ab",
   "metadata": {},
   "source": [
    "## 4. Méthodes de clustering"
   ]
  },
  {
   "cell_type": "code",
   "execution_count": null,
   "id": "e4d1afa2",
   "metadata": {},
   "outputs": [],
   "source": [
    "from sklearn.cluster import KMeans, AgglomerativeClustering, DBSCAN\n",
    "from sklearn.metrics import silhouette_score\n",
    "\n",
    "kmeans = KMeans(n_clusters=4, random_state=0)\n",
    "labels_kmeans = kmeans.fit_predict(reduced_data)\n",
    "sil_kmeans = silhouette_score(reduced_data, labels_kmeans)\n",
    "\n",
    "cah = AgglomerativeClustering(n_clusters=4)\n",
    "labels_cah = cah.fit_predict(reduced_data)\n",
    "sil_cah = silhouette_score(reduced_data, labels_cah)\n",
    "\n",
    "dbscan = DBSCAN(eps=2, min_samples=5)\n",
    "labels_db = dbscan.fit_predict(reduced_data)\n",
    "mask = labels_db != -1\n",
    "sil_db = silhouette_score(reduced_data[mask], labels_db[mask]) if mask.sum() > 1 else np.nan\n",
    "\n",
    "print('Silhouette K-means:', sil_kmeans)\n",
    "print('Silhouette CAH:', sil_cah)\n",
    "print('Silhouette DBSCAN:', sil_db)"
   ]
  },
  {
   "cell_type": "markdown",
   "id": "5917fc83",
   "metadata": {},
   "source": [
    "### Visualisation des clusters (PCA 2D)"
   ]
  },
  {
   "cell_type": "code",
   "execution_count": null,
   "id": "be2ac1ca",
   "metadata": {},
   "outputs": [],
   "source": [
    "pca_2d = PCA(n_components=2)\n",
    "reduced_2d = pca_2d.fit_transform(scaled_data)\n",
    "\n",
    "fig, axes = plt.subplots(1,3, figsize=(15,4))\n",
    "for ax, labels, title in zip(axes, [labels_kmeans, labels_cah, labels_db], ['K-means', 'CAH', 'DBSCAN']):\n",
    "    ax.scatter(reduced_2d[:,0], reduced_2d[:,1], c=labels, cmap='tab10', s=10)\n",
    "    ax.set_title(title)\n",
    "plt.tight_layout()\n",
    "plt.show()"
   ]
  },
  {
   "cell_type": "markdown",
   "id": "1e739b6a",
   "metadata": {},
   "source": [
    "## 5. Profiling des groupes"
   ]
  },
  {
   "cell_type": "code",
   "execution_count": null,
   "id": "bbbcb387",
   "metadata": {},
   "outputs": [],
   "source": [
    "df_clusters = df.copy()\n",
    "df_clusters['Cluster_KMeans'] = labels_kmeans\n",
    "profil_kmeans = df_clusters.groupby('Cluster_KMeans').mean(numeric_only=True)\n",
    "profil_kmeans"
   ]
  },
  {
   "cell_type": "markdown",
   "id": "9ccd509e",
   "metadata": {},
   "source": [
    "## 6. Conclusion"
   ]
  },
  {
   "cell_type": "markdown",
   "id": "1b7a80d3",
   "metadata": {},
   "source": [
    "Les différentes méthodes de clustering présentent des performances variables selon le score de silhouette.\n",
    "Les groupes obtenus peuvent être étudiés au travers des moyennes des variables pour identifier des profils types de clients."
   ]
  }
 ],
 "metadata": {
  "kernelspec": {
   "display_name": "Python 3",
   "language": "python",
   "name": "python3"
  },
  "language_info": {
   "name": "python",
   "version": "3.11"
  }
 },
 "nbformat": 4,
 "nbformat_minor": 5
}
